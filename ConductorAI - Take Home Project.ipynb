{
 "cells": [
  {
   "cell_type": "code",
   "execution_count": null,
   "id": "b2007e54",
   "metadata": {},
   "outputs": [],
   "source": [
    "!pip install pandas\n",
    "!pip install fitz\n",
    "!pip install re\n",
    "!pip install pytesseract\n",
    "!pip install PIL"
   ]
  },
  {
   "cell_type": "code",
   "execution_count": 18,
   "id": "08f622a2",
   "metadata": {},
   "outputs": [],
   "source": [
    "import pandas as pd\n",
    "import fitz\n",
    "import re\n",
    "import os\n",
    "import io\n",
    "import pytesseract\n",
    "from PIL import Image"
   ]
  },
  {
   "cell_type": "markdown",
   "id": "28f004d2",
   "metadata": {},
   "source": [
    "### Part 1 of Challenge: Find Highest Numeric Value"
   ]
  },
  {
   "cell_type": "markdown",
   "id": "db32c4ea",
   "metadata": {},
   "source": [
    "#### First, we will extract all text from our pdf"
   ]
  },
  {
   "cell_type": "code",
   "execution_count": 19,
   "id": "600e61c1",
   "metadata": {},
   "outputs": [],
   "source": [
    "# Collect raw text from document. We will use fitz to extract text from page and embedded images, graphs, etc.\n",
    "def extract_text_from_pdf(pdf_path):\n",
    "    \n",
    "    # Load the PDF document\n",
    "    doc = fitz.open(pdf_path)\n",
    "    total_text = \"\"\n",
    "\n",
    "    for page in doc:\n",
    "\n",
    "        # Extract text from the page\n",
    "        page_text = page.get_text()\n",
    "        \n",
    "        total_text += page_text\n",
    "\n",
    "    return total_text"
   ]
  },
  {
   "cell_type": "markdown",
   "id": "b0523631",
   "metadata": {},
   "source": [
    "#### Next, we will parse the text corpus for all numeric values. Then, we will find the maximum among these values"
   ]
  },
  {
   "cell_type": "code",
   "execution_count": 20,
   "id": "d71fc9e7",
   "metadata": {},
   "outputs": [],
   "source": [
    "# Function to get largest numeric value from pdf text, and return in original format.\n",
    "# Does not consider unit.\n",
    "def extract_number_from_text(text):\n",
    "    # Regex pattern to match numbers with optional commas, decimals.\n",
    "    number_pattern = r'\\b\\d+(?:,\\d{3})*(?:\\.\\d+)?\\b'\n",
    "    \n",
    "    # Find all numbers in the text\n",
    "    raw_numbers = re.findall(number_pattern, text)\n",
    "    \n",
    "    numbers_with_format = []\n",
    "    \n",
    "    for num in raw_numbers:\n",
    "        # Remove commas for conversion purposes\n",
    "        clean_num = num.replace(',', '')\n",
    "\n",
    "        \n",
    "        try:\n",
    "            if '.' in clean_num:\n",
    "                cleaned_number = float(clean_num)\n",
    "            else:\n",
    "                cleaned_number = int(clean_num)\n",
    "                \n",
    "            numbers_with_format.append((num, cleaned_number))\n",
    "        except ValueError:\n",
    "            # Skip any numbers that can't be converted\n",
    "            continue\n",
    "    \n",
    "    # Find the tuple with the highest cleaned number\n",
    "    if numbers_with_format:\n",
    "        highest_number = max(numbers_with_format, key=lambda x: x[1])\n",
    "        return highest_number[0]  # Return the original formatted number\n",
    "    else:\n",
    "        return None"
   ]
  },
  {
   "cell_type": "markdown",
   "id": "b503d34f",
   "metadata": {},
   "source": [
    "## Run the cell below to get the highest numeric value in pdf.\n",
    "\n",
    "### In order to change the pdf, replace file path with the path to the pdf you'd like to test"
   ]
  },
  {
   "cell_type": "code",
   "execution_count": 21,
   "id": "dd9d1b21",
   "metadata": {},
   "outputs": [
    {
     "data": {
      "text/plain": [
       "'6,000,000'"
      ]
     },
     "execution_count": 21,
     "metadata": {},
     "output_type": "execute_result"
    }
   ],
   "source": [
    "def get_highest_value_in_pdf(pdf_path):\n",
    "    raw_text = extract_text_from_pdf(pdf_path)\n",
    "    highest_num = extract_number_from_text(raw_text)\n",
    "    return highest_num\n",
    "\n",
    "pdf_path = os.path.expanduser(\"./Data/AirForceFiscalData.pdf\")\n",
    "\n",
    "get_highest_value_in_pdf(pdf_path)"
   ]
  },
  {
   "cell_type": "markdown",
   "id": "ff70c3c8",
   "metadata": {},
   "source": [
    "#### The highest numeric value in this document, without considering scaling/units, is 6,000,000"
   ]
  },
  {
   "cell_type": "markdown",
   "id": "2e95656c",
   "metadata": {},
   "source": [
    "### Part 2 of Challenge: Find Greatest Numeric Value (Bonus)"
   ]
  },
  {
   "cell_type": "markdown",
   "id": "dd0efbe3",
   "metadata": {},
   "source": [
    "#### First, we extract all raw text, all table data, and all funds data. We are storing table and funds data separately, as this will help with scaling numbers later in the process"
   ]
  },
  {
   "cell_type": "code",
   "execution_count": 22,
   "id": "1cc76def",
   "metadata": {},
   "outputs": [],
   "source": [
    "def bonus_extract_text(pdf_path):\n",
    "    # Load the PDF document\n",
    "    doc = fitz.open(pdf_path)\n",
    "    total_text = \"\"\n",
    "    all_tables=[]\n",
    "    all_funds=[]\n",
    "\n",
    "    for page in doc:\n",
    "\n",
    "        # Extract text from the page\n",
    "        page_text = page.get_text()\n",
    "        \n",
    "        # Retrieve tables and blocks\n",
    "        tables = page.find_tables()\n",
    "        blocks = page.get_text(\"blocks\")\n",
    "        \n",
    "        if tables:\n",
    "            for table in tables:\n",
    "                all_tables.append(table.extract())\n",
    "        \n",
    "        if len(blocks) > 0:\n",
    "            block_text=str(blocks[0]).strip().lower() # Check to see this is a fund\n",
    "            if \"millions\" in block_text or \"$m\" in block_text or \"thousands\" in block_text:\n",
    "                all_funds.append(blocks)\n",
    "\n",
    "\n",
    "        total_text += page_text\n",
    "\n",
    "    return total_text, all_tables, all_funds"
   ]
  },
  {
   "cell_type": "markdown",
   "id": "c5908bef",
   "metadata": {},
   "source": [
    "#### Starting with the raw text, we will scale any number in text that is immediately followed by 'millions' or 'thousands'. However, numeric data found in tables or funds will not be considered"
   ]
  },
  {
   "cell_type": "code",
   "execution_count": 23,
   "id": "43d33045",
   "metadata": {},
   "outputs": [],
   "source": [
    "def extract_and_scale_numbers(text):\n",
    "    # Define the pattern to match numbers followed by 'billion', million', or 'thousand'\n",
    "    pattern = re.compile(r'[$]?\\b(\\d{1,3}(?:,\\d{3})*(?:\\.\\d+)?)\\s*(billion|billions|million|millions|thousand|thousands)\\b', re.IGNORECASE)\n",
    "    \n",
    "    scaled_numbers = []\n",
    "    \n",
    "    matches = pattern.findall(text)\n",
    "    \n",
    "    for match in matches:\n",
    "        number = float(match[0].replace(',', ''))  #Extract number\n",
    "        unit = match[1].lower()   # Extract the unit (billion/million/thousand)\n",
    "        if unit == 'million' or unit == 'millions':\n",
    "            scaled_numbers.append(number * 1_000_000)\n",
    "        elif unit == 'thousand' or unit == 'thousands':\n",
    "            scaled_numbers.append(number * 1_000)\n",
    "        elif unit == 'billion' or unit == 'billions':\n",
    "            scaled_numbers.append(number * 1_000_000_000)\n",
    "    \n",
    "    return scaled_numbers"
   ]
  },
  {
   "cell_type": "markdown",
   "id": "c08e1e1e",
   "metadata": {},
   "source": [
    "#### Next, we will scale numeric data found in the tables of our pdf. We will do this by retrieving individual table objects, grabbing the table's scalar (either millions or thousands in this case), and scale all numeric data contained in the specified table object by the appropriate scalar"
   ]
  },
  {
   "cell_type": "code",
   "execution_count": 33,
   "id": "fef2f9bd",
   "metadata": {},
   "outputs": [],
   "source": [
    "def process_array_with_scalars_tables(tables):\n",
    "\n",
    "    def extract_and_scale_numbers(text, scalar):\n",
    "        # Extract all numbers from the text\n",
    "        numbers = re.findall(r'\\b\\d+(?:,\\d{3})*(?:\\.\\d+)?\\b', text)\n",
    "        numbers=[num.replace(\",\",\"\")for num in numbers]\n",
    "        scaled_numbers = [float(num) * scalar for num in numbers if num not in years]\n",
    "        return scaled_numbers\n",
    "\n",
    "    # Track the current scalar based on the unit mentioned in previous rows\n",
    "    current_scalar = 1\n",
    "    scaled_numbers = []\n",
    "    years = set([2023,2024,2025])\n",
    "    \n",
    "    for table in tables:\n",
    "        # Reset scaling factor once we move to next table\n",
    "        current_scalar=1\n",
    "        for item in table:\n",
    "            if item:\n",
    "                \n",
    "                # Ensure item is a string\n",
    "                item = str(item)\n",
    "                \n",
    "                # Determine if the current row mentions a scaling factor\n",
    "                if 'billions' in item.lower():\n",
    "                    current_scalar = 1_000_000_000\n",
    "                elif 'millions' in item.lower() or '$m' in item.lower():\n",
    "                    current_scalar = 1_000_000\n",
    "                elif 'Thousands' in item:\n",
    "                    current_scalar = 1_000\n",
    "\n",
    "                # Extract and scale the numbers from the text\n",
    "                scaled_numbers.extend(extract_and_scale_numbers(item, current_scalar))\n",
    "\n",
    "    return scaled_numbers"
   ]
  },
  {
   "cell_type": "markdown",
   "id": "2dee142c",
   "metadata": {},
   "source": [
    "#### We will perform a similar process for funds. Since the structure of tables and funds are different, funds are handled slightly differently than tables, but there still is significant overlap in the underlying logic"
   ]
  },
  {
   "cell_type": "code",
   "execution_count": 34,
   "id": "646e3372",
   "metadata": {},
   "outputs": [],
   "source": [
    "import re\n",
    "\n",
    "def process_array_with_scalars_funds(funds):\n",
    "\n",
    "    def extract_and_scale_numbers(text, scalar):\n",
    "        # Extract all numbers from the text\n",
    "        numbers = re.findall(r'\\b(?:\\()?\\d+(?=\\d{3}|,|\\.)(?:,\\d{3})*(?:\\.\\d+)?(?:\\))?\\b', text)\n",
    "        numbers = [num.replace(\",\", \"\") for num in numbers]\n",
    "        scaled_numbers = [float(num) * scalar for num in numbers if num not in years]\n",
    "        return scaled_numbers\n",
    "\n",
    "    # Track the current scalar based on the unit mentioned in previous rows\n",
    "    current_scalar = 1 \n",
    "    scaled_numbers = []\n",
    "    years = set([2023,2024,2025])\n",
    "\n",
    "    # Iterate through fund objects\n",
    "    for fund in funds:\n",
    "        for item in fund:\n",
    "            if item:\n",
    "                \n",
    "                # Ensure item is a tuple, and skip the first four elements (coordinates)\n",
    "                if isinstance(item, tuple):\n",
    "                    # Extract the text portion (5th element onward)\n",
    "                    text = item[4]\n",
    "\n",
    "                    # Determine if the current row mentions a scaling factor\n",
    "                    if 'billions' in text.lower():\n",
    "                        current_scalar = 1_000_000_000\n",
    "                    elif 'millions' in text.lower() or '$m' in text.lower():\n",
    "                        current_scalar = 1_000_000\n",
    "                    elif 'Thousands' in text:\n",
    "                        current_scalar = 1_000\n",
    "\n",
    "                    # Extract and scale the numbers from the text\n",
    "                    scaled_numbers.extend(extract_and_scale_numbers(text, current_scalar))\n",
    "\n",
    "    return scaled_numbers"
   ]
  },
  {
   "cell_type": "markdown",
   "id": "ef92dd78",
   "metadata": {},
   "source": [
    "## Run the cell below to get the greatest numeric value in pdf.\n",
    "\n",
    "###  In order to change the pdf, replace file path with the path to the pdf you'd like to test"
   ]
  },
  {
   "cell_type": "code",
   "execution_count": 35,
   "id": "c1b24c67",
   "metadata": {},
   "outputs": [
    {
     "data": {
      "text/plain": [
       "'35,110,000,000.0'"
      ]
     },
     "execution_count": 35,
     "metadata": {},
     "output_type": "execute_result"
    }
   ],
   "source": [
    "def get_greatest_number_in_pdf(pdf_path):\n",
    "    raw_text, tables, funds = bonus_extract_text(pdf_path)\n",
    "    text_data = extract_and_scale_numbers(raw_text)\n",
    "    table_data = process_array_with_scalars_tables(tables)\n",
    "    funds_data = process_array_with_scalars_funds(funds)\n",
    "    return f\"{max(text_data+table_data+funds_data):,}\"\n",
    "\n",
    "pdf_path = \"./Data/AirForceFiscalData.pdf\"\n",
    "get_greatest_number_in_pdf(pdf_path)"
   ]
  }
 ],
 "metadata": {
  "kernelspec": {
   "display_name": "Python 3 (ipykernel)",
   "language": "python",
   "name": "python3"
  },
  "language_info": {
   "codemirror_mode": {
    "name": "ipython",
    "version": 3
   },
   "file_extension": ".py",
   "mimetype": "text/x-python",
   "name": "python",
   "nbconvert_exporter": "python",
   "pygments_lexer": "ipython3",
   "version": "3.11.5"
  }
 },
 "nbformat": 4,
 "nbformat_minor": 5
}
